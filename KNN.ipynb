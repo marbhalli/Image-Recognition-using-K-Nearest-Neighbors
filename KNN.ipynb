{
 "cells": [
  {
   "cell_type": "code",
   "execution_count": 1135,
   "metadata": {},
   "outputs": [],
   "source": [
    "import pandas as pd\n",
    "import numpy as np\n",
    "from matplotlib import pyplot as plt\n",
    "from cv2 import resize\n",
    "import cv2\n",
    "from skimage.feature import hog\n",
    "from sklearn.neighbors import KNeighborsClassifier\n",
    "from sklearn.metrics import accuracy_score\n",
    "from sklearn.metrics import f1_score\n",
    "from sklearn.metrics import confusion_matrix\n",
    "import glob"
   ]
  },
  {
   "cell_type": "code",
   "execution_count": 1136,
   "metadata": {},
   "outputs": [],
   "source": [
    "# Part 1\n",
    "def get_features(set_):\n",
    "    if set_=='training':\n",
    "        training_features=[]\n",
    "        for img_name in glob.glob('/Users/bhalli/Desktop/machine learning/assignment 2/part 1/training_set/cats/*'):\n",
    "            img=cv2.imread(img_name)\n",
    "            resized_img=resize(img,(64,32))\n",
    "            fd = hog(resized_img)\n",
    "            reshaped_img_with_label=np.concatenate([np.array([0]),fd])\n",
    "            training_features.append(reshaped_img_with_label)\n",
    "        for img_name in glob.glob('/Users/bhalli/Desktop/machine learning/assignment 2/part 1/training_set/dogs/*'):\n",
    "            img=cv2.imread(img_name)\n",
    "            resized_img=resize(img,(64,32))\n",
    "            fd = hog(resized_img)\n",
    "            reshaped_img_with_label=np.concatenate([np.array([1]),fd])\n",
    "            training_features.append(reshaped_img_with_label)\n",
    "        return np.array(training_features)\n",
    "    elif set_=='testing':\n",
    "        test_features=[]\n",
    "        for img_name in glob.glob('/Users/bhalli/Desktop/machine learning/assignment 2/part 1/test_set/cats/*'):\n",
    "            img=cv2.imread(img_name)\n",
    "            resized_img=resize(img,(64,32))\n",
    "            fd = hog(resized_img)\n",
    "            reshaped_img_with_label=np.concatenate([np.array([0]),fd])\n",
    "            test_features.append(reshaped_img_with_label)\n",
    "        for img_name in glob.glob('/Users/bhalli/Desktop/machine learning/assignment 2/part 1/test_set/dogs/*'):\n",
    "            img=cv2.imread(img_name)\n",
    "            resized_img=resize(img,(64,32))\n",
    "            fd = hog(resized_img)\n",
    "            reshaped_img_with_label=np.concatenate([np.array([1]),fd])\n",
    "            test_features.append(reshaped_img_with_label)\n",
    "        return np.array(test_features)"
   ]
  },
  {
   "cell_type": "code",
   "execution_count": 1137,
   "metadata": {},
   "outputs": [],
   "source": [
    "final_training_set=get_features('training')\n",
    "final_test_set=get_features('testing')"
   ]
  },
  {
   "cell_type": "code",
   "execution_count": 1138,
   "metadata": {},
   "outputs": [],
   "source": [
    "def knn(k,metric,train_set,test_set):\n",
    "    if metric=='euclidean':\n",
    "        predicted_label=[]\n",
    "        for i in range(0,test_set.shape[0]):\n",
    "            temp=train_set[:,1:]\n",
    "            temp_label=train_set[:,0]\n",
    "            temp=temp-test_set[i,1:]\n",
    "            temp=np.sqrt(np.sum(np.square(temp),axis=1))\n",
    "            final_temp=np.concatenate([temp_label.reshape(temp_label.shape[0],1),temp.reshape(temp.shape[0],1)],axis=1)\n",
    "            final_temp=final_temp[final_temp[:,1].argsort()]\n",
    "            k_nearest=final_temp[0:k,0]\n",
    "            unique, counts = np.unique(k_nearest, return_counts=True)\n",
    "            try:\n",
    "                if counts[0]>counts[1]:\n",
    "                    predicted_label.append(0)\n",
    "                    continue\n",
    "                elif counts[1]>counts[0]:\n",
    "                    predicted_label.append(1)\n",
    "                    continue\n",
    "            except:\n",
    "                predicted_label.append(unique[0])\n",
    "                continue\n",
    "            unique, counts = np.unique(k_nearest[0:k-1], return_counts=True)\n",
    "            try:\n",
    "                if counts[0]>counts[1]:\n",
    "                    predicted_label.append(0)\n",
    "                    continue\n",
    "                elif counts[1]>counts[0]:\n",
    "                    predicted_label.append(1)\n",
    "                    continue\n",
    "            except:\n",
    "                predicted_label.append(unique[0])\n",
    "                continue\n",
    "    elif metric=='manhattan':\n",
    "        predicted_label=[]\n",
    "        for i in range(0,test_set.shape[0]):\n",
    "            temp=train_set[:,1:]\n",
    "            temp_label=train_set[:,0]\n",
    "            temp=temp-test_set[i,1:]\n",
    "            temp=np.sum(np.abs(temp),axis=1)\n",
    "            final_temp=np.concatenate([temp_label.reshape(temp_label.shape[0],1),temp.reshape(temp.shape[0],1)],axis=1)\n",
    "            final_temp=final_temp[final_temp[:,1].argsort()]\n",
    "            k_nearest=final_temp[0:k,0]\n",
    "            unique, counts = np.unique(k_nearest, return_counts=True)\n",
    "            try:\n",
    "                if counts[0]>counts[1]:\n",
    "                    predicted_label.append(0)\n",
    "                    continue\n",
    "                elif counts[1]>counts[0]:\n",
    "                    predicted_label.append(1)\n",
    "                    continue\n",
    "            except:\n",
    "                predicted_label.append(unique[0])\n",
    "                continue\n",
    "            unique, counts = np.unique(k_nearest[0:k-1], return_counts=True)\n",
    "            try:\n",
    "                if counts[0]>counts[1]:\n",
    "                    predicted_label.append(0)\n",
    "                    continue\n",
    "                elif counts[1]>counts[0]:\n",
    "                    predicted_label.append(1)\n",
    "                    continue\n",
    "            except:\n",
    "                predicted_label.append(unique[0])\n",
    "                continue\n",
    "    return predicted_label"
   ]
  },
  {
   "cell_type": "code",
   "execution_count": 1139,
   "metadata": {},
   "outputs": [],
   "source": [
    "def evaluation(predicted_label,true_label,beta):\n",
    "    predicted_label=np.array(predicted_label)\n",
    "    true_positive=0\n",
    "    true_negative=0\n",
    "    false_positive=0\n",
    "    false_negative=0\n",
    "    for i in range(0,predicted_label.shape[0]):\n",
    "        if predicted_label[i]==true_label[i]:\n",
    "            if predicted_label[i]==1:\n",
    "                true_positive=true_positive+1\n",
    "            elif predicted_label[i]==0:\n",
    "                true_negative=true_negative+1\n",
    "        else:\n",
    "            if predicted_label[i]==1:\n",
    "                false_positive=false_positive+1\n",
    "            elif predicted_label[i]==0:\n",
    "                false_negative=false_negative+1\n",
    "    confusion_matrix=np.array([[true_negative,false_negative],[false_positive,true_positive]])\n",
    "    accuracy=(true_positive+true_negative)/(true_positive+true_negative+false_positive+false_negative)\n",
    "    precision=(true_positive)/(true_positive+false_positive)\n",
    "    recall=(true_positive)/(true_positive+false_negative)\n",
    "    F_score=((beta**2 +1)*precision*recall)/((beta**2)*precision + recall)\n",
    "    return accuracy,confusion_matrix,F_score"
   ]
  },
  {
   "cell_type": "code",
   "execution_count": 1140,
   "metadata": {},
   "outputs": [],
   "source": [
    "predicted_label_euclidean_1=knn(1,'euclidean',final_training_set,final_test_set)\n",
    "predicted_label_euclidean_2=knn(2,'euclidean',final_training_set,final_test_set)\n",
    "predicted_label_euclidean_3=knn(3,'euclidean',final_training_set,final_test_set)\n",
    "predicted_label_euclidean_4=knn(4,'euclidean',final_training_set,final_test_set)\n",
    "predicted_label_euclidean_5=knn(5,'euclidean',final_training_set,final_test_set)\n",
    "predicted_label_euclidean_6=knn(6,'euclidean',final_training_set,final_test_set)\n",
    "predicted_label_euclidean_7=knn(7,'euclidean',final_training_set,final_test_set)"
   ]
  },
  {
   "cell_type": "code",
   "execution_count": 1141,
   "metadata": {},
   "outputs": [],
   "source": [
    "true_label=final_test_set[:,0]"
   ]
  },
  {
   "cell_type": "code",
   "execution_count": 1142,
   "metadata": {},
   "outputs": [],
   "source": [
    "F_euclidean_1=evaluation(predicted_label_euclidean_1,true_label,1)\n",
    "F_euclidean_2=evaluation(predicted_label_euclidean_2,true_label,1)\n",
    "F_euclidean_3=evaluation(predicted_label_euclidean_3,true_label,1)\n",
    "F_euclidean_4=evaluation(predicted_label_euclidean_4,true_label,1)\n",
    "F_euclidean_5=evaluation(predicted_label_euclidean_5,true_label,1)\n",
    "F_euclidean_6=evaluation(predicted_label_euclidean_6,true_label,1)\n",
    "F_euclidean_7=evaluation(predicted_label_euclidean_7,true_label,1)"
   ]
  },
  {
   "cell_type": "code",
   "execution_count": 1143,
   "metadata": {},
   "outputs": [],
   "source": [
    "predicted_label_manhattan_1=knn(1,'manhattan',final_training_set,final_test_set)\n",
    "predicted_label_manhattan_2=knn(2,'manhattan',final_training_set,final_test_set)\n",
    "predicted_label_manhattan_3=knn(3,'manhattan',final_training_set,final_test_set)\n",
    "predicted_label_manhattan_4=knn(4,'manhattan',final_training_set,final_test_set)\n",
    "predicted_label_manhattan_5=knn(5,'manhattan',final_training_set,final_test_set)\n",
    "predicted_label_manhattan_6=knn(6,'manhattan',final_training_set,final_test_set)\n",
    "predicted_label_manhattan_7=knn(7,'manhattan',final_training_set,final_test_set)"
   ]
  },
  {
   "cell_type": "code",
   "execution_count": 1144,
   "metadata": {},
   "outputs": [],
   "source": [
    "F_manhattan_1=evaluation(predicted_label_manhattan_1,true_label,1)\n",
    "F_manhattan_2=evaluation(predicted_label_manhattan_2,true_label,1)\n",
    "F_manhattan_3=evaluation(predicted_label_manhattan_3,true_label,1)\n",
    "F_manhattan_4=evaluation(predicted_label_manhattan_4,true_label,1)\n",
    "F_manhattan_5=evaluation(predicted_label_manhattan_5,true_label,1)\n",
    "F_manhattan_6=evaluation(predicted_label_manhattan_6,true_label,1)\n",
    "F_manhattan_7=evaluation(predicted_label_manhattan_7,true_label,1)"
   ]
  },
  {
   "cell_type": "code",
   "execution_count": 1145,
   "metadata": {},
   "outputs": [
    {
     "data": {
      "text/plain": [
       "Text(0, 0.5, 'F-score')"
      ]
     },
     "execution_count": 1145,
     "metadata": {},
     "output_type": "execute_result"
    },
    {
     "data": {
      "image/png": "[encoded data removed]",
      "text/plain": [
       "<Figure size 432x288 with 1 Axes>"
      ]
     },
     "metadata": {
      "needs_background": "light"
     },
     "output_type": "display_data"
    }
   ],
   "source": [
    "plt.plot([1,2,3,4,5,6,7],[F_manhattan_1[2],F_manhattan_2[2],F_manhattan_3[2],F_manhattan_4[2],F_manhattan_5[2],F_manhattan_6[2],F_manhattan_7[2]],label='manhattan')\n",
    "plt.plot([1,2,3,4,5,6,7],[F_euclidean_1[2],F_euclidean_2[2],F_euclidean_3[2],F_euclidean_4[2],F_euclidean_5[2],F_euclidean_6[2],F_euclidean_7[2]],label='euclidean')\n",
    "plt.legend()\n",
    "plt.xlabel('k-value')\n",
    "plt.ylabel('F-score')\n",
    "# The F1 score is significant beacuse it takes into account both precision and recall,and can also give different \n",
    "# weights to precision or recall. It is better than accuracy beacuse you can have a model which is extremely \n",
    "# accurate but is a terible model i.e no ball example done in class. however, for that model the f1 score will\n",
    "# very low hence the f1 score gives us a better picture of the model."
   ]
  },
  {
   "cell_type": "code",
   "execution_count": 1148,
   "metadata": {},
   "outputs": [
    {
     "name": "stdout",
     "output_type": "stream",
     "text": [
      "accuracy for manhattan k=1 0.637\n",
      "accuracy for manhattan k=2 0.637\n",
      "accuracy for manhattan k=3 0.6585\n",
      "accuracy for manhattan k=4 0.6585\n",
      "accuracy for manhattan k=5 0.6745\n",
      "accuracy for manhattan k=6 0.6745\n",
      "accuracy for manhattan k=7 0.681\n"
     ]
    }
   ],
   "source": [
    "print(f'accuracy for manhattan k=1 {F_manhattan_1[0]}')\n",
    "print(f'accuracy for manhattan k=2 {F_manhattan_2[0]}')\n",
    "print(f'accuracy for manhattan k=3 {F_manhattan_3[0]}')\n",
    "print(f'accuracy for manhattan k=4 {F_manhattan_4[0]}')\n",
    "print(f'accuracy for manhattan k=5 {F_manhattan_5[0]}')\n",
    "print(f'accuracy for manhattan k=6 {F_manhattan_6[0]}')\n",
    "print(f'accuracy for manhattan k=7 {F_manhattan_7[0]}')"
   ]
  },
  {
   "cell_type": "code",
   "execution_count": 1149,
   "metadata": {},
   "outputs": [
    {
     "name": "stdout",
     "output_type": "stream",
     "text": [
      "accuracy for euclidean k=1 0.605\n",
      "accuracy for euclidean k=2 0.605\n",
      "accuracy for euclidean k=3 0.6325\n",
      "accuracy for euclidean k=4 0.6325\n",
      "accuracy for euclidean k=5 0.6385\n",
      "accuracy for euclidean k=6 0.6385\n",
      "accuracy for euclidean k=7 0.6335\n"
     ]
    }
   ],
   "source": [
    "print(f'accuracy for euclidean k=1 {F_euclidean_1[0]}')\n",
    "print(f'accuracy for euclidean k=2 {F_euclidean_2[0]}')\n",
    "print(f'accuracy for euclidean k=3 {F_euclidean_3[0]}')\n",
    "print(f'accuracy for euclidean k=4 {F_euclidean_4[0]}')\n",
    "print(f'accuracy for euclidean k=5 {F_euclidean_5[0]}')\n",
    "print(f'accuracy for euclidean k=6 {F_euclidean_6[0]}')\n",
    "print(f'accuracy for euclidean k=7 {F_euclidean_7[0]}')"
   ]
  },
  {
   "cell_type": "code",
   "execution_count": 1150,
   "metadata": {},
   "outputs": [],
   "source": [
    "# Part 2\n",
    "def knn_using_library(k,metric_input):\n",
    "    classifier=KNeighborsClassifier(n_neighbors=k,metric=metric_input)\n",
    "    classifier.fit(final_training_set[:,1:],final_training_set[:,0])\n",
    "    predicted_label=classifier.predict(final_test_set[:,1:])\n",
    "    accuracy=accuracy_score(final_test_set[:,0],predicted_label)\n",
    "    f1=f1_score(final_test_set[:,0],predicted_label)\n",
    "    confusion=confusion_matrix(final_test_set[:,0],predicted_label)\n",
    "    return accuracy,f1,confusion"
   ]
  },
  {
   "cell_type": "code",
   "execution_count": 1151,
   "metadata": {},
   "outputs": [],
   "source": [
    "f_manhattan_1=knn_using_library(1,'manhattan')\n",
    "f_manhattan_2=knn_using_library(2,'manhattan')\n",
    "f_manhattan_3=knn_using_library(3,'manhattan')\n",
    "f_manhattan_4=knn_using_library(4,'manhattan')\n",
    "f_manhattan_5=knn_using_library(5,'manhattan')\n",
    "f_manhattan_6=knn_using_library(6,'manhattan')\n",
    "f_manhattan_7=knn_using_library(7,'manhattan')"
   ]
  },
  {
   "cell_type": "code",
   "execution_count": 1152,
   "metadata": {},
   "outputs": [],
   "source": [
    "f_euclidean_1=knn_using_library(1,'euclidean')\n",
    "f_euclidean_2=knn_using_library(2,'euclidean')\n",
    "f_euclidean_3=knn_using_library(3,'euclidean')\n",
    "f_euclidean_4=knn_using_library(4,'euclidean')\n",
    "f_euclidean_5=knn_using_library(5,'euclidean')\n",
    "f_euclidean_6=knn_using_library(6,'euclidean')\n",
    "f_euclidean_7=knn_using_library(7,'euclidean')"
   ]
  },
  {
   "cell_type": "code",
   "execution_count": 1153,
   "metadata": {},
   "outputs": [
    {
     "data": {
      "text/plain": [
       "Text(0, 0.5, 'F-score')"
      ]
     },
     "execution_count": 1153,
     "metadata": {},
     "output_type": "execute_result"
    },
    {
     "data": {
      "image/png": "[encoded data removed]",
      "text/plain": [
       "<Figure size 432x288 with 1 Axes>"
      ]
     },
     "metadata": {
      "needs_background": "light"
     },
     "output_type": "display_data"
    }
   ],
   "source": [
    "plt.plot([1,2,3,4,5,6,7],[f_manhattan_1[1],f_manhattan_2[1],f_manhattan_3[1],f_manhattan_4[1],f_manhattan_5[1],f_manhattan_6[1],f_manhattan_7[1]],label='manhattan')\n",
    "plt.plot([1,2,3,4,5,6,7],[f_euclidean_1[1],f_euclidean_2[1],f_euclidean_3[1],f_euclidean_4[1],f_euclidean_5[1],f_euclidean_6[1],f_euclidean_7[1]],label='euclidean')\n",
    "plt.legend()\n",
    "plt.xlabel('k-value')\n",
    "plt.ylabel('F-score')"
   ]
  },
  {
   "cell_type": "code",
   "execution_count": 1154,
   "metadata": {},
   "outputs": [
    {
     "name": "stdout",
     "output_type": "stream",
     "text": [
      "accuracy for manhattan k=1 0.637\n",
      "accuracy for manhattan k=2 0.64\n",
      "accuracy for manhattan k=3 0.6585\n",
      "accuracy for manhattan k=4 0.6665\n",
      "accuracy for manhattan k=5 0.6745\n",
      "accuracy for manhattan k=6 0.6805\n",
      "accuracy for manhattan k=7 0.681\n"
     ]
    }
   ],
   "source": [
    "print(f'accuracy for manhattan k=1 {f_manhattan_1[0]}')\n",
    "print(f'accuracy for manhattan k=2 {f_manhattan_2[0]}')\n",
    "print(f'accuracy for manhattan k=3 {f_manhattan_3[0]}')\n",
    "print(f'accuracy for manhattan k=4 {f_manhattan_4[0]}')\n",
    "print(f'accuracy for manhattan k=5 {f_manhattan_5[0]}')\n",
    "print(f'accuracy for manhattan k=6 {f_manhattan_6[0]}')\n",
    "print(f'accuracy for manhattan k=7 {f_manhattan_7[0]}')"
   ]
  },
  {
   "cell_type": "code",
   "execution_count": 1155,
   "metadata": {},
   "outputs": [
    {
     "name": "stdout",
     "output_type": "stream",
     "text": [
      "accuracy for euclidean k=1 0.605\n",
      "accuracy for euclidean k=2 0.631\n",
      "accuracy for euclidean k=3 0.6325\n",
      "accuracy for euclidean k=4 0.66\n",
      "accuracy for euclidean k=5 0.6385\n",
      "accuracy for euclidean k=6 0.666\n",
      "accuracy for euclidean k=7 0.6335\n"
     ]
    }
   ],
   "source": [
    "print(f'accuracy for euclidean k=1 {f_euclidean_1[0]}')\n",
    "print(f'accuracy for euclidean k=2 {f_euclidean_2[0]}')\n",
    "print(f'accuracy for euclidean k=3 {f_euclidean_3[0]}')\n",
    "print(f'accuracy for euclidean k=4 {f_euclidean_4[0]}')\n",
    "print(f'accuracy for euclidean k=5 {f_euclidean_5[0]}')\n",
    "print(f'accuracy for euclidean k=6 {f_euclidean_6[0]}')\n",
    "print(f'accuracy for euclidean k=7 {f_euclidean_7[0]}')"
   ]
  },
  {
   "cell_type": "code",
   "execution_count": 1187,
   "metadata": {},
   "outputs": [],
   "source": [
    "# part 3\n",
    "import glob\n",
    "def get_features(set_):\n",
    "    if set_=='training':\n",
    "        training_features=[]\n",
    "        for img_name in glob.glob('/Users/bhalli/Desktop/machine learning/assignment 2/part 3/Training data/Cloudy/*'):\n",
    "            img=cv2.imread(img_name, cv2.IMREAD_COLOR)\n",
    "            reshaped_img=resize(img,(32,32))\n",
    "            reshaped_img=reshaped_img.reshape(reshaped_img.shape[0]*reshaped_img.shape[1]*reshaped_img.shape[2])\n",
    "            reshaped_img_with_label=np.concatenate([np.array([0]),reshaped_img])\n",
    "            training_features.append(reshaped_img_with_label)\n",
    "        for img_name in glob.glob('/Users/bhalli/Desktop/machine learning/assignment 2/part 3/Training data/Rain/*'):\n",
    "            img=cv2.imread(img_name, cv2.IMREAD_COLOR)\n",
    "            reshaped_img=resize(img,(32,32))\n",
    "            reshaped_img=reshaped_img.reshape(reshaped_img.shape[0]*reshaped_img.shape[1]*reshaped_img.shape[2])\n",
    "            reshaped_img_with_label=np.concatenate([np.array([1]),reshaped_img])\n",
    "            training_features.append(reshaped_img_with_label)\n",
    "        for img_name in glob.glob('/Users/bhalli/Desktop/machine learning/assignment 2/part 3/Training data/Shine/*'):\n",
    "            img=cv2.imread(img_name, cv2.IMREAD_COLOR)\n",
    "            reshaped_img=resize(img,(32,32))\n",
    "            reshaped_img=reshaped_img.reshape(reshaped_img.shape[0]*reshaped_img.shape[1]*reshaped_img.shape[2])\n",
    "            reshaped_img_with_label=np.concatenate([np.array([2]),reshaped_img])\n",
    "            training_features.append(reshaped_img_with_label)\n",
    "        for img_name in glob.glob('/Users/bhalli/Desktop/machine learning/assignment 2/part 3/Training data/Sunrise/*'):\n",
    "            img=cv2.imread(img_name, cv2.IMREAD_COLOR)\n",
    "            reshaped_img=resize(img,(32,32))\n",
    "            reshaped_img=reshaped_img.reshape(reshaped_img.shape[0]*reshaped_img.shape[1]*reshaped_img.shape[2])\n",
    "            reshaped_img_with_label=np.concatenate([np.array([3]),reshaped_img])\n",
    "            training_features.append(reshaped_img_with_label)\n",
    "        return np.array(training_features)\n",
    "    elif set_=='testing':\n",
    "        test_features=[]\n",
    "        for img_name in glob.glob('/Users/bhalli/Desktop/machine learning/assignment 2/part 3/Test data/Cloudy/*'):\n",
    "            img=cv2.imread(img_name, cv2.IMREAD_COLOR)\n",
    "            reshaped_img=resize(img,(32,32))\n",
    "            reshaped_img=reshaped_img.reshape(reshaped_img.shape[0]*reshaped_img.shape[1]*reshaped_img.shape[2])\n",
    "            reshaped_img_with_label=np.concatenate([np.array([0]),reshaped_img])\n",
    "            test_features.append(reshaped_img_with_label)\n",
    "        for img_name in glob.glob('/Users/bhalli/Desktop/machine learning/assignment 2/part 3/Test data/Rain/*'):\n",
    "            img=cv2.imread(img_name, cv2.IMREAD_COLOR)\n",
    "            reshaped_img=resize(img,(32,32))\n",
    "            reshaped_img=reshaped_img.reshape(reshaped_img.shape[0]*reshaped_img.shape[1]*reshaped_img.shape[2])\n",
    "            reshaped_img_with_label=np.concatenate([np.array([1]),reshaped_img])\n",
    "            test_features.append(reshaped_img_with_label)\n",
    "        for img_name in glob.glob('/Users/bhalli/Desktop/machine learning/assignment 2/part 3/Test data/Shine/*'):\n",
    "            img=cv2.imread(img_name, cv2.IMREAD_COLOR)\n",
    "            reshaped_img=resize(img,(32,32))\n",
    "            reshaped_img=reshaped_img.reshape(reshaped_img.shape[0]*reshaped_img.shape[1]*reshaped_img.shape[2])\n",
    "            reshaped_img_with_label=np.concatenate([np.array([2]),reshaped_img])\n",
    "            test_features.append(reshaped_img_with_label)\n",
    "        for img_name in glob.glob('/Users/bhalli/Desktop/machine learning/assignment 2/part 3/Test data/Sunrise/*'):\n",
    "            img=cv2.imread(img_name, cv2.IMREAD_COLOR)\n",
    "            reshaped_img=resize(img,(32,32))\n",
    "            reshaped_img=reshaped_img.reshape(reshaped_img.shape[0]*reshaped_img.shape[1]*reshaped_img.shape[2])\n",
    "            reshaped_img_with_label=np.concatenate([np.array([3]),reshaped_img])\n",
    "            test_features.append(reshaped_img_with_label)\n",
    "        return np.array(test_features)"
   ]
  },
  {
   "cell_type": "code",
   "execution_count": 1188,
   "metadata": {},
   "outputs": [],
   "source": [
    "training_features=get_features('training')\n",
    "test_features=get_features('testing')"
   ]
  },
  {
   "cell_type": "code",
   "execution_count": 1189,
   "metadata": {},
   "outputs": [],
   "source": [
    "def knn_multi(k,metric,train_set,test_set):\n",
    "    if metric=='euclidean':\n",
    "        predicted_label=[]\n",
    "        for i in range(0,test_set.shape[0]):\n",
    "            temp=train_set[:,1:]\n",
    "            temp_label=train_set[:,0]\n",
    "            temp=temp-test_set[i,1:]\n",
    "            temp=np.sqrt(np.sum(np.square(temp),axis=1))\n",
    "            final_temp=np.concatenate([temp_label.reshape(temp_label.shape[0],1),temp.reshape(temp.shape[0],1)],axis=1)\n",
    "            final_temp=final_temp[final_temp[:,1].argsort()]\n",
    "            k_nearest=final_temp[0:k,0]\n",
    "            unique, counts = np.unique(k_nearest, return_counts=True)\n",
    "            dic=dict(zip(unique,counts))\n",
    "            max_label=[k for k,v in dic.items() if v == max(dic.values())]\n",
    "            if len(max_label)==1:\n",
    "                predicted_label.append(max_label[0])\n",
    "            elif len(max_label)>1:\n",
    "                for k_new in range(k-1,0,-1):\n",
    "                    k_nearest=final_temp[0:k_new,0]\n",
    "                    unique, counts = np.unique(k_nearest, return_counts=True)\n",
    "                    dic=dict(zip(unique,counts))\n",
    "                    max_label=[k for k,v in dic.items() if v == max(dic.values())]\n",
    "                    if len(max_label)==1:\n",
    "                        predicted_label.append(max_label[0])\n",
    "                        break\n",
    "                    else:\n",
    "                        continue\n",
    "    elif metric=='manhattan':\n",
    "        predicted_label=[]\n",
    "        for i in range(0,test_set.shape[0]):\n",
    "            temp=train_set[:,1:]\n",
    "            temp_label=train_set[:,0]\n",
    "            temp=temp-test_set[i,1:]\n",
    "            temp=np.sum(np.abs(temp),axis=1)\n",
    "            final_temp=np.concatenate([temp_label.reshape(temp_label.shape[0],1),temp.reshape(temp.shape[0],1)],axis=1)\n",
    "            final_temp=final_temp[final_temp[:,1].argsort()]\n",
    "            k_nearest=final_temp[0:k,0]\n",
    "            unique, counts = np.unique(k_nearest, return_counts=True)\n",
    "            dic=dict(zip(unique,counts))\n",
    "            max_label=[k for k,v in dic.items() if v == max(dic.values())]\n",
    "            if len(max_label)==1:\n",
    "                predicted_label.append(max_label[0])\n",
    "            elif len(max_label)>1:\n",
    "                for k_new in range(k-1,0,-1):\n",
    "                    k_nearest=final_temp[0:k_new,0]\n",
    "                    unique, counts = np.unique(k_nearest, return_counts=True)\n",
    "                    dic=dict(zip(unique,counts))\n",
    "                    max_label=[k for k,v in dic.items() if v == max(dic.values())]\n",
    "                    if len(max_label)==1:\n",
    "                        predicted_label.append(max_label[0])\n",
    "                        break\n",
    "                    else:\n",
    "                        continue\n",
    "    return np.array(predicted_label)"
   ]
  },
  {
   "cell_type": "code",
   "execution_count": 1190,
   "metadata": {},
   "outputs": [],
   "source": [
    "predict_euclidean_1=knn_multi(1,'euclidean',training_features,test_features)\n",
    "predict_euclidean_2=knn_multi(2,'euclidean',training_features,test_features)\n",
    "predict_euclidean_3=knn_multi(3,'euclidean',training_features,test_features)\n",
    "predict_euclidean_4=knn_multi(4,'euclidean',training_features,test_features)\n",
    "predict_euclidean_5=knn_multi(5,'euclidean',training_features,test_features)\n",
    "predict_euclidean_6=knn_multi(6,'euclidean',training_features,test_features)\n",
    "predict_euclidean_7=knn_multi(7,'euclidean',training_features,test_features)"
   ]
  },
  {
   "cell_type": "code",
   "execution_count": 1191,
   "metadata": {},
   "outputs": [],
   "source": [
    "predict_manhattan_1=knn_multi(1,'manhattan',training_features,test_features)\n",
    "predict_manhattan_2=knn_multi(2,'manhattan',training_features,test_features)\n",
    "predict_manhattan_3=knn_multi(3,'manhattan',training_features,test_features)\n",
    "predict_manhattan_4=knn_multi(4,'manhattan',training_features,test_features)\n",
    "predict_manhattan_5=knn_multi(5,'manhattan',training_features,test_features)\n",
    "predict_manhattan_6=knn_multi(6,'manhattan',training_features,test_features)\n",
    "predict_manhattan_7=knn_multi(7,'manhattan',training_features,test_features)"
   ]
  },
  {
   "cell_type": "code",
   "execution_count": 1192,
   "metadata": {},
   "outputs": [],
   "source": [
    "def evaluation_multi(true,predict,beta):\n",
    "    unique_labels=np.unique(true)\n",
    "    confusion_matrix=np.zeros((len(unique_labels),len(unique_labels)))\n",
    "    for label in unique_labels:\n",
    "        for i in range(true.shape[0]):\n",
    "            if true[i]==predict[i] and predict[i]==label:\n",
    "                confusion_matrix[int(label),int(label)]=confusion_matrix[int(label),int(label)]+1\n",
    "            elif true[i]!=predict[i] and predict[i]==label:\n",
    "                confusion_matrix[int(predict[i]),int(true[i])]=confusion_matrix[int(predict[i]),int(true[i])]+1\n",
    "    correct_predicted=0\n",
    "    sum_class_recall=0\n",
    "    sum_class_precision=0\n",
    "    for i in range(len(unique_labels)):\n",
    "        correct_predicted=correct_predicted+float(confusion_matrix[i,i])\n",
    "        sum_class_recall=sum_class_recall+(float(confusion_matrix[i,i]))/(confusion_matrix[:,i].sum())\n",
    "        sum_class_precision=sum_class_precision+(float(confusion_matrix[i,i]))/(confusion_matrix[i,:].sum())\n",
    "    accuracy=correct_predicted/(true.shape[0])\n",
    "    recall=sum_class_recall/(len(unique_labels))\n",
    "    precision=sum_class_precision/(len(unique_labels))\n",
    "    f_score=((beta**2 +1)*precision*recall)/((beta**2)*precision + recall)\n",
    "    return confusion_matrix,accuracy,f_score"
   ]
  },
  {
   "cell_type": "code",
   "execution_count": 1193,
   "metadata": {},
   "outputs": [],
   "source": [
    "manhattan_1_f1=evaluation_multi(test_features[:,0],predict_manhattan_1,1)\n",
    "manhattan_2_f1=evaluation_multi(test_features[:,0],predict_manhattan_2,1)\n",
    "manhattan_3_f1=evaluation_multi(test_features[:,0],predict_manhattan_3,1)\n",
    "manhattan_4_f1=evaluation_multi(test_features[:,0],predict_manhattan_4,1)\n",
    "manhattan_5_f1=evaluation_multi(test_features[:,0],predict_manhattan_5,1)\n",
    "manhattan_6_f1=evaluation_multi(test_features[:,0],predict_manhattan_6,1)\n",
    "manhattan_7_f1=evaluation_multi(test_features[:,0],predict_manhattan_7,1)"
   ]
  },
  {
   "cell_type": "code",
   "execution_count": 1194,
   "metadata": {},
   "outputs": [],
   "source": [
    "euclidean_1_f1=evaluation_multi(test_features[:,0],predict_euclidean_1,1)\n",
    "euclidean_2_f1=evaluation_multi(test_features[:,0],predict_euclidean_2,1)\n",
    "euclidean_3_f1=evaluation_multi(test_features[:,0],predict_euclidean_3,1)\n",
    "euclidean_4_f1=evaluation_multi(test_features[:,0],predict_euclidean_4,1)\n",
    "euclidean_5_f1=evaluation_multi(test_features[:,0],predict_euclidean_5,1)\n",
    "euclidean_6_f1=evaluation_multi(test_features[:,0],predict_euclidean_6,1)\n",
    "euclidean_7_f1=evaluation_multi(test_features[:,0],predict_euclidean_7,1)"
   ]
  },
  {
   "cell_type": "code",
   "execution_count": 1195,
   "metadata": {},
   "outputs": [
    {
     "data": {
      "text/plain": [
       "Text(0, 0.5, 'F-score')"
      ]
     },
     "execution_count": 1195,
     "metadata": {},
     "output_type": "execute_result"
    },
    {
     "data": {
      "image/png": "[encoded data removed]",
      "text/plain": [
       "<Figure size 432x288 with 1 Axes>"
      ]
     },
     "metadata": {
      "needs_background": "light"
     },
     "output_type": "display_data"
    }
   ],
   "source": [
    "plt.plot([1,2,3,4,5,6,7],[manhattan_1_f1[2],manhattan_2_f1[2],manhattan_3_f1[2],manhattan_4_f1[2],manhattan_4_f1[2],manhattan_6_f1[2],manhattan_7_f1[2]],label='manhattan')\n",
    "plt.plot([1,2,3,4,5,6,7],[euclidean_1_f1[2],euclidean_2_f1[2],euclidean_3_f1[2],euclidean_4_f1[2],euclidean_5_f1[2],euclidean_6_f1[2],euclidean_7_f1[2]],label='euclidean')\n",
    "plt.legend()\n",
    "plt.xlabel('k-value')\n",
    "plt.ylabel('F-score')"
   ]
  },
  {
   "cell_type": "code",
   "execution_count": 1196,
   "metadata": {},
   "outputs": [
    {
     "name": "stdout",
     "output_type": "stream",
     "text": [
      "accuracy for manhattan k=1 0.84375\n",
      "accuracy for manhattan k=2 0.84375\n",
      "accuracy for manhattan k=3 0.8258928571428571\n",
      "accuracy for manhattan k=4 0.8169642857142857\n",
      "accuracy for manhattan k=5 0.8169642857142857\n",
      "accuracy for manhattan k=6 0.8214285714285714\n",
      "accuracy for manhattan k=7 0.8080357142857143\n"
     ]
    }
   ],
   "source": [
    "print(f'accuracy for manhattan k=1 {manhattan_1_f1[1]}')\n",
    "print(f'accuracy for manhattan k=2 {manhattan_2_f1[1]}')\n",
    "print(f'accuracy for manhattan k=3 {manhattan_3_f1[1]}')\n",
    "print(f'accuracy for manhattan k=4 {manhattan_4_f1[1]}')\n",
    "print(f'accuracy for manhattan k=5 {manhattan_5_f1[1]}')\n",
    "print(f'accuracy for manhattan k=6 {manhattan_6_f1[1]}')\n",
    "print(f'accuracy for manhattan k=7 {manhattan_7_f1[1]}')"
   ]
  },
  {
   "cell_type": "code",
   "execution_count": 1197,
   "metadata": {},
   "outputs": [
    {
     "name": "stdout",
     "output_type": "stream",
     "text": [
      "accuracy for euclidean k=1 0.8303571428571429\n",
      "accuracy for euclidean k=2 0.8303571428571429\n",
      "accuracy for euclidean k=3 0.7767857142857143\n",
      "accuracy for euclidean k=4 0.78125\n",
      "accuracy for euclidean k=5 0.7723214285714286\n",
      "accuracy for euclidean k=6 0.7678571428571429\n",
      "accuracy for euclidean k=7 0.7544642857142857\n"
     ]
    }
   ],
   "source": [
    "print(f'accuracy for euclidean k=1 {euclidean_1_f1[1]}')\n",
    "print(f'accuracy for euclidean k=2 {euclidean_2_f1[1]}')\n",
    "print(f'accuracy for euclidean k=3 {euclidean_3_f1[1]}')\n",
    "print(f'accuracy for euclidean k=4 {euclidean_4_f1[1]}')\n",
    "print(f'accuracy for euclidean k=5 {euclidean_5_f1[1]}')\n",
    "print(f'accuracy for euclidean k=6 {euclidean_6_f1[1]}')\n",
    "print(f'accuracy for euclidean k=7 {euclidean_7_f1[1]}')"
   ]
  }
 ],
 "metadata": {
  "kernelspec": {
   "display_name": "Python 3",
   "language": "python",
   "name": "python3"
  },
  "language_info": {
   "codemirror_mode": {
    "name": "ipython",
    "version": 3
   },
   "file_extension": ".py",
   "mimetype": "text/x-python",
   "name": "python",
   "nbconvert_exporter": "python",
   "pygments_lexer": "ipython3",
   "version": "3.8.3"
  }
 },
 "nbformat": 4,
 "nbformat_minor": 4
}
